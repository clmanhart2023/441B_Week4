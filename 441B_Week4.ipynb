{
  "nbformat": 4,
  "nbformat_minor": 0,
  "metadata": {
    "colab": {
      "provenance": []
    },
    "kernelspec": {
      "name": "python3",
      "display_name": "Python 3"
    },
    "language_info": {
      "name": "python"
    }
  },
  "cells": [
    {
      "cell_type": "markdown",
      "source": [
        "# **ECON 441B: Week 4 In-Class Assignment**\n",
        "Courtney Manhart"
      ],
      "metadata": {
        "id": "aQSCnjOxOmG8"
      }
    },
    {
      "cell_type": "markdown",
      "source": [
        "# 0.) Import the Credit Card Fraud Data From CCLE"
      ],
      "metadata": {
        "id": "7ywSRtNI4s5h"
      }
    },
    {
      "cell_type": "code",
      "execution_count": 1,
      "metadata": {
        "id": "nsG1QV154GYZ"
      },
      "outputs": [],
      "source": [
        "import pandas as pd\n",
        "from google.colab import drive\n",
        "import matplotlib.pyplot as plt\n",
        "import numpy as np"
      ]
    },
    {
      "cell_type": "code",
      "source": [
        "drive.mount('/content/gdrive/', force_remount = True)"
      ],
      "metadata": {
        "colab": {
          "base_uri": "https://localhost:8080/"
        },
        "id": "Iku0T8Ou4Lcu",
        "outputId": "baa086e1-ee9c-46e3-8732-e304c8036857"
      },
      "execution_count": 2,
      "outputs": [
        {
          "output_type": "stream",
          "name": "stdout",
          "text": [
            "Mounted at /content/gdrive/\n"
          ]
        }
      ]
    },
    {
      "cell_type": "code",
      "source": [
        "df = pd.read_csv(\"/content/gdrive/MyDrive/ECON441B/Week 3/fraudTest.csv\", \n",
        "                 index_col = 0, parse_dates = True)"
      ],
      "metadata": {
        "id": "KJQfo8mz43Kz"
      },
      "execution_count": 3,
      "outputs": []
    },
    {
      "cell_type": "code",
      "source": [
        "df.head()"
      ],
      "metadata": {
        "colab": {
          "base_uri": "https://localhost:8080/",
          "height": 501
        },
        "id": "mKWSRv-q98wE",
        "outputId": "9cec94b4-abf2-4eee-f3bb-afdbfb5a5d8e"
      },
      "execution_count": 4,
      "outputs": [
        {
          "output_type": "execute_result",
          "data": {
            "text/plain": [
              "  trans_date_trans_time            cc_num  \\\n",
              "0   2020-06-21 12:14:25  2291163933867244   \n",
              "1   2020-06-21 12:14:33  3573030041201292   \n",
              "2   2020-06-21 12:14:53  3598215285024754   \n",
              "3   2020-06-21 12:15:15  3591919803438423   \n",
              "4   2020-06-21 12:15:17  3526826139003047   \n",
              "\n",
              "                               merchant        category    amt   first  \\\n",
              "0                 fraud_Kirlin and Sons   personal_care   2.86    Jeff   \n",
              "1                  fraud_Sporer-Keebler   personal_care  29.84  Joanne   \n",
              "2  fraud_Swaniawski, Nitzsche and Welch  health_fitness  41.28  Ashley   \n",
              "3                     fraud_Haley Group        misc_pos  60.05   Brian   \n",
              "4                 fraud_Johnston-Casper          travel   3.19  Nathan   \n",
              "\n",
              "       last gender                       street        city  ...      lat  \\\n",
              "0   Elliott      M            351 Darlene Green    Columbia  ...  33.9659   \n",
              "1  Williams      F             3638 Marsh Union     Altonah  ...  40.3207   \n",
              "2     Lopez      F         9333 Valentine Point    Bellmore  ...  40.6729   \n",
              "3  Williams      M  32941 Krystal Mill Apt. 552  Titusville  ...  28.5697   \n",
              "4    Massey      M     5783 Evan Roads Apt. 465    Falmouth  ...  44.2529   \n",
              "\n",
              "       long  city_pop                     job         dob  \\\n",
              "0  -80.9355    333497     Mechanical engineer  1968-03-19   \n",
              "1 -110.4360       302  Sales professional, IT  1990-01-17   \n",
              "2  -73.5365     34496       Librarian, public  1970-10-21   \n",
              "3  -80.8191     54767            Set designer  1987-07-25   \n",
              "4  -85.0170      1126      Furniture designer  1955-07-06   \n",
              "\n",
              "                          trans_num   unix_time  merch_lat  merch_long  \\\n",
              "0  2da90c7d74bd46a0caf3777415b3ebd3  1371816865  33.986391  -81.200714   \n",
              "1  324cc204407e99f51b0d6ca0055005e7  1371816873  39.450498 -109.960431   \n",
              "2  c81755dbbbea9d5c77f094348a7579be  1371816893  40.495810  -74.196111   \n",
              "3  2159175b9efe66dc301f149d3d5abf8c  1371816915  28.812398  -80.883061   \n",
              "4  57ff021bd3f328f8738bb535c302a31b  1371816917  44.959148  -85.884734   \n",
              "\n",
              "   is_fraud  \n",
              "0         0  \n",
              "1         0  \n",
              "2         0  \n",
              "3         0  \n",
              "4         0  \n",
              "\n",
              "[5 rows x 22 columns]"
            ],
            "text/html": [
              "\n",
              "  <div id=\"df-c581b615-5832-4445-9e5e-648a129fcf18\">\n",
              "    <div class=\"colab-df-container\">\n",
              "      <div>\n",
              "<style scoped>\n",
              "    .dataframe tbody tr th:only-of-type {\n",
              "        vertical-align: middle;\n",
              "    }\n",
              "\n",
              "    .dataframe tbody tr th {\n",
              "        vertical-align: top;\n",
              "    }\n",
              "\n",
              "    .dataframe thead th {\n",
              "        text-align: right;\n",
              "    }\n",
              "</style>\n",
              "<table border=\"1\" class=\"dataframe\">\n",
              "  <thead>\n",
              "    <tr style=\"text-align: right;\">\n",
              "      <th></th>\n",
              "      <th>trans_date_trans_time</th>\n",
              "      <th>cc_num</th>\n",
              "      <th>merchant</th>\n",
              "      <th>category</th>\n",
              "      <th>amt</th>\n",
              "      <th>first</th>\n",
              "      <th>last</th>\n",
              "      <th>gender</th>\n",
              "      <th>street</th>\n",
              "      <th>city</th>\n",
              "      <th>...</th>\n",
              "      <th>lat</th>\n",
              "      <th>long</th>\n",
              "      <th>city_pop</th>\n",
              "      <th>job</th>\n",
              "      <th>dob</th>\n",
              "      <th>trans_num</th>\n",
              "      <th>unix_time</th>\n",
              "      <th>merch_lat</th>\n",
              "      <th>merch_long</th>\n",
              "      <th>is_fraud</th>\n",
              "    </tr>\n",
              "  </thead>\n",
              "  <tbody>\n",
              "    <tr>\n",
              "      <th>0</th>\n",
              "      <td>2020-06-21 12:14:25</td>\n",
              "      <td>2291163933867244</td>\n",
              "      <td>fraud_Kirlin and Sons</td>\n",
              "      <td>personal_care</td>\n",
              "      <td>2.86</td>\n",
              "      <td>Jeff</td>\n",
              "      <td>Elliott</td>\n",
              "      <td>M</td>\n",
              "      <td>351 Darlene Green</td>\n",
              "      <td>Columbia</td>\n",
              "      <td>...</td>\n",
              "      <td>33.9659</td>\n",
              "      <td>-80.9355</td>\n",
              "      <td>333497</td>\n",
              "      <td>Mechanical engineer</td>\n",
              "      <td>1968-03-19</td>\n",
              "      <td>2da90c7d74bd46a0caf3777415b3ebd3</td>\n",
              "      <td>1371816865</td>\n",
              "      <td>33.986391</td>\n",
              "      <td>-81.200714</td>\n",
              "      <td>0</td>\n",
              "    </tr>\n",
              "    <tr>\n",
              "      <th>1</th>\n",
              "      <td>2020-06-21 12:14:33</td>\n",
              "      <td>3573030041201292</td>\n",
              "      <td>fraud_Sporer-Keebler</td>\n",
              "      <td>personal_care</td>\n",
              "      <td>29.84</td>\n",
              "      <td>Joanne</td>\n",
              "      <td>Williams</td>\n",
              "      <td>F</td>\n",
              "      <td>3638 Marsh Union</td>\n",
              "      <td>Altonah</td>\n",
              "      <td>...</td>\n",
              "      <td>40.3207</td>\n",
              "      <td>-110.4360</td>\n",
              "      <td>302</td>\n",
              "      <td>Sales professional, IT</td>\n",
              "      <td>1990-01-17</td>\n",
              "      <td>324cc204407e99f51b0d6ca0055005e7</td>\n",
              "      <td>1371816873</td>\n",
              "      <td>39.450498</td>\n",
              "      <td>-109.960431</td>\n",
              "      <td>0</td>\n",
              "    </tr>\n",
              "    <tr>\n",
              "      <th>2</th>\n",
              "      <td>2020-06-21 12:14:53</td>\n",
              "      <td>3598215285024754</td>\n",
              "      <td>fraud_Swaniawski, Nitzsche and Welch</td>\n",
              "      <td>health_fitness</td>\n",
              "      <td>41.28</td>\n",
              "      <td>Ashley</td>\n",
              "      <td>Lopez</td>\n",
              "      <td>F</td>\n",
              "      <td>9333 Valentine Point</td>\n",
              "      <td>Bellmore</td>\n",
              "      <td>...</td>\n",
              "      <td>40.6729</td>\n",
              "      <td>-73.5365</td>\n",
              "      <td>34496</td>\n",
              "      <td>Librarian, public</td>\n",
              "      <td>1970-10-21</td>\n",
              "      <td>c81755dbbbea9d5c77f094348a7579be</td>\n",
              "      <td>1371816893</td>\n",
              "      <td>40.495810</td>\n",
              "      <td>-74.196111</td>\n",
              "      <td>0</td>\n",
              "    </tr>\n",
              "    <tr>\n",
              "      <th>3</th>\n",
              "      <td>2020-06-21 12:15:15</td>\n",
              "      <td>3591919803438423</td>\n",
              "      <td>fraud_Haley Group</td>\n",
              "      <td>misc_pos</td>\n",
              "      <td>60.05</td>\n",
              "      <td>Brian</td>\n",
              "      <td>Williams</td>\n",
              "      <td>M</td>\n",
              "      <td>32941 Krystal Mill Apt. 552</td>\n",
              "      <td>Titusville</td>\n",
              "      <td>...</td>\n",
              "      <td>28.5697</td>\n",
              "      <td>-80.8191</td>\n",
              "      <td>54767</td>\n",
              "      <td>Set designer</td>\n",
              "      <td>1987-07-25</td>\n",
              "      <td>2159175b9efe66dc301f149d3d5abf8c</td>\n",
              "      <td>1371816915</td>\n",
              "      <td>28.812398</td>\n",
              "      <td>-80.883061</td>\n",
              "      <td>0</td>\n",
              "    </tr>\n",
              "    <tr>\n",
              "      <th>4</th>\n",
              "      <td>2020-06-21 12:15:17</td>\n",
              "      <td>3526826139003047</td>\n",
              "      <td>fraud_Johnston-Casper</td>\n",
              "      <td>travel</td>\n",
              "      <td>3.19</td>\n",
              "      <td>Nathan</td>\n",
              "      <td>Massey</td>\n",
              "      <td>M</td>\n",
              "      <td>5783 Evan Roads Apt. 465</td>\n",
              "      <td>Falmouth</td>\n",
              "      <td>...</td>\n",
              "      <td>44.2529</td>\n",
              "      <td>-85.0170</td>\n",
              "      <td>1126</td>\n",
              "      <td>Furniture designer</td>\n",
              "      <td>1955-07-06</td>\n",
              "      <td>57ff021bd3f328f8738bb535c302a31b</td>\n",
              "      <td>1371816917</td>\n",
              "      <td>44.959148</td>\n",
              "      <td>-85.884734</td>\n",
              "      <td>0</td>\n",
              "    </tr>\n",
              "  </tbody>\n",
              "</table>\n",
              "<p>5 rows × 22 columns</p>\n",
              "</div>\n",
              "      <button class=\"colab-df-convert\" onclick=\"convertToInteractive('df-c581b615-5832-4445-9e5e-648a129fcf18')\"\n",
              "              title=\"Convert this dataframe to an interactive table.\"\n",
              "              style=\"display:none;\">\n",
              "        \n",
              "  <svg xmlns=\"http://www.w3.org/2000/svg\" height=\"24px\"viewBox=\"0 0 24 24\"\n",
              "       width=\"24px\">\n",
              "    <path d=\"M0 0h24v24H0V0z\" fill=\"none\"/>\n",
              "    <path d=\"M18.56 5.44l.94 2.06.94-2.06 2.06-.94-2.06-.94-.94-2.06-.94 2.06-2.06.94zm-11 1L8.5 8.5l.94-2.06 2.06-.94-2.06-.94L8.5 2.5l-.94 2.06-2.06.94zm10 10l.94 2.06.94-2.06 2.06-.94-2.06-.94-.94-2.06-.94 2.06-2.06.94z\"/><path d=\"M17.41 7.96l-1.37-1.37c-.4-.4-.92-.59-1.43-.59-.52 0-1.04.2-1.43.59L10.3 9.45l-7.72 7.72c-.78.78-.78 2.05 0 2.83L4 21.41c.39.39.9.59 1.41.59.51 0 1.02-.2 1.41-.59l7.78-7.78 2.81-2.81c.8-.78.8-2.07 0-2.86zM5.41 20L4 18.59l7.72-7.72 1.47 1.35L5.41 20z\"/>\n",
              "  </svg>\n",
              "      </button>\n",
              "      \n",
              "  <style>\n",
              "    .colab-df-container {\n",
              "      display:flex;\n",
              "      flex-wrap:wrap;\n",
              "      gap: 12px;\n",
              "    }\n",
              "\n",
              "    .colab-df-convert {\n",
              "      background-color: #E8F0FE;\n",
              "      border: none;\n",
              "      border-radius: 50%;\n",
              "      cursor: pointer;\n",
              "      display: none;\n",
              "      fill: #1967D2;\n",
              "      height: 32px;\n",
              "      padding: 0 0 0 0;\n",
              "      width: 32px;\n",
              "    }\n",
              "\n",
              "    .colab-df-convert:hover {\n",
              "      background-color: #E2EBFA;\n",
              "      box-shadow: 0px 1px 2px rgba(60, 64, 67, 0.3), 0px 1px 3px 1px rgba(60, 64, 67, 0.15);\n",
              "      fill: #174EA6;\n",
              "    }\n",
              "\n",
              "    [theme=dark] .colab-df-convert {\n",
              "      background-color: #3B4455;\n",
              "      fill: #D2E3FC;\n",
              "    }\n",
              "\n",
              "    [theme=dark] .colab-df-convert:hover {\n",
              "      background-color: #434B5C;\n",
              "      box-shadow: 0px 1px 3px 1px rgba(0, 0, 0, 0.15);\n",
              "      filter: drop-shadow(0px 1px 2px rgba(0, 0, 0, 0.3));\n",
              "      fill: #FFFFFF;\n",
              "    }\n",
              "  </style>\n",
              "\n",
              "      <script>\n",
              "        const buttonEl =\n",
              "          document.querySelector('#df-c581b615-5832-4445-9e5e-648a129fcf18 button.colab-df-convert');\n",
              "        buttonEl.style.display =\n",
              "          google.colab.kernel.accessAllowed ? 'block' : 'none';\n",
              "\n",
              "        async function convertToInteractive(key) {\n",
              "          const element = document.querySelector('#df-c581b615-5832-4445-9e5e-648a129fcf18');\n",
              "          const dataTable =\n",
              "            await google.colab.kernel.invokeFunction('convertToInteractive',\n",
              "                                                     [key], {});\n",
              "          if (!dataTable) return;\n",
              "\n",
              "          const docLinkHtml = 'Like what you see? Visit the ' +\n",
              "            '<a target=\"_blank\" href=https://colab.research.google.com/notebooks/data_table.ipynb>data table notebook</a>'\n",
              "            + ' to learn more about interactive tables.';\n",
              "          element.innerHTML = '';\n",
              "          dataTable['output_type'] = 'display_data';\n",
              "          await google.colab.output.renderOutput(dataTable, element);\n",
              "          const docLink = document.createElement('div');\n",
              "          docLink.innerHTML = docLinkHtml;\n",
              "          element.appendChild(docLink);\n",
              "        }\n",
              "      </script>\n",
              "    </div>\n",
              "  </div>\n",
              "  "
            ]
          },
          "metadata": {},
          "execution_count": 4
        }
      ]
    },
    {
      "cell_type": "code",
      "source": [
        "# Convert to date_time\n",
        "df['trans_date_trans_time'] = pd.to_datetime(df['trans_date_trans_time'])\n",
        "\n",
        "# Looking at Month to visualize fraud\n",
        "df['time_var'] = [i.month for i in df['trans_date_trans_time']]"
      ],
      "metadata": {
        "id": "ZrfziQXEaBSu"
      },
      "execution_count": 5,
      "outputs": []
    },
    {
      "cell_type": "code",
      "source": [
        "# Simplify Data\n",
        "X = pd.get_dummies(df[['amt', 'city_pop', 'time_var', 'category']], \n",
        "                   ['category'])\n",
        "y = df['is_fraud']"
      ],
      "metadata": {
        "id": "Xcv7VP9wajPi"
      },
      "execution_count": 6,
      "outputs": []
    },
    {
      "cell_type": "code",
      "source": [
        "X.head()"
      ],
      "metadata": {
        "colab": {
          "base_uri": "https://localhost:8080/",
          "height": 268
        },
        "id": "QPi9j8Kca6eY",
        "outputId": "65a13152-ba3d-40fb-b411-467007be660e"
      },
      "execution_count": 7,
      "outputs": [
        {
          "output_type": "execute_result",
          "data": {
            "text/plain": [
              "     amt  city_pop  time_var  category_entertainment  category_food_dining  \\\n",
              "0   2.86    333497         6                       0                     0   \n",
              "1  29.84       302         6                       0                     0   \n",
              "2  41.28     34496         6                       0                     0   \n",
              "3  60.05     54767         6                       0                     0   \n",
              "4   3.19      1126         6                       0                     0   \n",
              "\n",
              "   category_gas_transport  category_grocery_net  category_grocery_pos  \\\n",
              "0                       0                     0                     0   \n",
              "1                       0                     0                     0   \n",
              "2                       0                     0                     0   \n",
              "3                       0                     0                     0   \n",
              "4                       0                     0                     0   \n",
              "\n",
              "   category_health_fitness  category_home  category_kids_pets  \\\n",
              "0                        0              0                   0   \n",
              "1                        0              0                   0   \n",
              "2                        1              0                   0   \n",
              "3                        0              0                   0   \n",
              "4                        0              0                   0   \n",
              "\n",
              "   category_misc_net  category_misc_pos  category_personal_care  \\\n",
              "0                  0                  0                       1   \n",
              "1                  0                  0                       1   \n",
              "2                  0                  0                       0   \n",
              "3                  0                  1                       0   \n",
              "4                  0                  0                       0   \n",
              "\n",
              "   category_shopping_net  category_shopping_pos  category_travel  \n",
              "0                      0                      0                0  \n",
              "1                      0                      0                0  \n",
              "2                      0                      0                0  \n",
              "3                      0                      0                0  \n",
              "4                      0                      0                1  "
            ],
            "text/html": [
              "\n",
              "  <div id=\"df-1caff293-4f80-46b6-ab7a-8e76985a7bcb\">\n",
              "    <div class=\"colab-df-container\">\n",
              "      <div>\n",
              "<style scoped>\n",
              "    .dataframe tbody tr th:only-of-type {\n",
              "        vertical-align: middle;\n",
              "    }\n",
              "\n",
              "    .dataframe tbody tr th {\n",
              "        vertical-align: top;\n",
              "    }\n",
              "\n",
              "    .dataframe thead th {\n",
              "        text-align: right;\n",
              "    }\n",
              "</style>\n",
              "<table border=\"1\" class=\"dataframe\">\n",
              "  <thead>\n",
              "    <tr style=\"text-align: right;\">\n",
              "      <th></th>\n",
              "      <th>amt</th>\n",
              "      <th>city_pop</th>\n",
              "      <th>time_var</th>\n",
              "      <th>category_entertainment</th>\n",
              "      <th>category_food_dining</th>\n",
              "      <th>category_gas_transport</th>\n",
              "      <th>category_grocery_net</th>\n",
              "      <th>category_grocery_pos</th>\n",
              "      <th>category_health_fitness</th>\n",
              "      <th>category_home</th>\n",
              "      <th>category_kids_pets</th>\n",
              "      <th>category_misc_net</th>\n",
              "      <th>category_misc_pos</th>\n",
              "      <th>category_personal_care</th>\n",
              "      <th>category_shopping_net</th>\n",
              "      <th>category_shopping_pos</th>\n",
              "      <th>category_travel</th>\n",
              "    </tr>\n",
              "  </thead>\n",
              "  <tbody>\n",
              "    <tr>\n",
              "      <th>0</th>\n",
              "      <td>2.86</td>\n",
              "      <td>333497</td>\n",
              "      <td>6</td>\n",
              "      <td>0</td>\n",
              "      <td>0</td>\n",
              "      <td>0</td>\n",
              "      <td>0</td>\n",
              "      <td>0</td>\n",
              "      <td>0</td>\n",
              "      <td>0</td>\n",
              "      <td>0</td>\n",
              "      <td>0</td>\n",
              "      <td>0</td>\n",
              "      <td>1</td>\n",
              "      <td>0</td>\n",
              "      <td>0</td>\n",
              "      <td>0</td>\n",
              "    </tr>\n",
              "    <tr>\n",
              "      <th>1</th>\n",
              "      <td>29.84</td>\n",
              "      <td>302</td>\n",
              "      <td>6</td>\n",
              "      <td>0</td>\n",
              "      <td>0</td>\n",
              "      <td>0</td>\n",
              "      <td>0</td>\n",
              "      <td>0</td>\n",
              "      <td>0</td>\n",
              "      <td>0</td>\n",
              "      <td>0</td>\n",
              "      <td>0</td>\n",
              "      <td>0</td>\n",
              "      <td>1</td>\n",
              "      <td>0</td>\n",
              "      <td>0</td>\n",
              "      <td>0</td>\n",
              "    </tr>\n",
              "    <tr>\n",
              "      <th>2</th>\n",
              "      <td>41.28</td>\n",
              "      <td>34496</td>\n",
              "      <td>6</td>\n",
              "      <td>0</td>\n",
              "      <td>0</td>\n",
              "      <td>0</td>\n",
              "      <td>0</td>\n",
              "      <td>0</td>\n",
              "      <td>1</td>\n",
              "      <td>0</td>\n",
              "      <td>0</td>\n",
              "      <td>0</td>\n",
              "      <td>0</td>\n",
              "      <td>0</td>\n",
              "      <td>0</td>\n",
              "      <td>0</td>\n",
              "      <td>0</td>\n",
              "    </tr>\n",
              "    <tr>\n",
              "      <th>3</th>\n",
              "      <td>60.05</td>\n",
              "      <td>54767</td>\n",
              "      <td>6</td>\n",
              "      <td>0</td>\n",
              "      <td>0</td>\n",
              "      <td>0</td>\n",
              "      <td>0</td>\n",
              "      <td>0</td>\n",
              "      <td>0</td>\n",
              "      <td>0</td>\n",
              "      <td>0</td>\n",
              "      <td>0</td>\n",
              "      <td>1</td>\n",
              "      <td>0</td>\n",
              "      <td>0</td>\n",
              "      <td>0</td>\n",
              "      <td>0</td>\n",
              "    </tr>\n",
              "    <tr>\n",
              "      <th>4</th>\n",
              "      <td>3.19</td>\n",
              "      <td>1126</td>\n",
              "      <td>6</td>\n",
              "      <td>0</td>\n",
              "      <td>0</td>\n",
              "      <td>0</td>\n",
              "      <td>0</td>\n",
              "      <td>0</td>\n",
              "      <td>0</td>\n",
              "      <td>0</td>\n",
              "      <td>0</td>\n",
              "      <td>0</td>\n",
              "      <td>0</td>\n",
              "      <td>0</td>\n",
              "      <td>0</td>\n",
              "      <td>0</td>\n",
              "      <td>1</td>\n",
              "    </tr>\n",
              "  </tbody>\n",
              "</table>\n",
              "</div>\n",
              "      <button class=\"colab-df-convert\" onclick=\"convertToInteractive('df-1caff293-4f80-46b6-ab7a-8e76985a7bcb')\"\n",
              "              title=\"Convert this dataframe to an interactive table.\"\n",
              "              style=\"display:none;\">\n",
              "        \n",
              "  <svg xmlns=\"http://www.w3.org/2000/svg\" height=\"24px\"viewBox=\"0 0 24 24\"\n",
              "       width=\"24px\">\n",
              "    <path d=\"M0 0h24v24H0V0z\" fill=\"none\"/>\n",
              "    <path d=\"M18.56 5.44l.94 2.06.94-2.06 2.06-.94-2.06-.94-.94-2.06-.94 2.06-2.06.94zm-11 1L8.5 8.5l.94-2.06 2.06-.94-2.06-.94L8.5 2.5l-.94 2.06-2.06.94zm10 10l.94 2.06.94-2.06 2.06-.94-2.06-.94-.94-2.06-.94 2.06-2.06.94z\"/><path d=\"M17.41 7.96l-1.37-1.37c-.4-.4-.92-.59-1.43-.59-.52 0-1.04.2-1.43.59L10.3 9.45l-7.72 7.72c-.78.78-.78 2.05 0 2.83L4 21.41c.39.39.9.59 1.41.59.51 0 1.02-.2 1.41-.59l7.78-7.78 2.81-2.81c.8-.78.8-2.07 0-2.86zM5.41 20L4 18.59l7.72-7.72 1.47 1.35L5.41 20z\"/>\n",
              "  </svg>\n",
              "      </button>\n",
              "      \n",
              "  <style>\n",
              "    .colab-df-container {\n",
              "      display:flex;\n",
              "      flex-wrap:wrap;\n",
              "      gap: 12px;\n",
              "    }\n",
              "\n",
              "    .colab-df-convert {\n",
              "      background-color: #E8F0FE;\n",
              "      border: none;\n",
              "      border-radius: 50%;\n",
              "      cursor: pointer;\n",
              "      display: none;\n",
              "      fill: #1967D2;\n",
              "      height: 32px;\n",
              "      padding: 0 0 0 0;\n",
              "      width: 32px;\n",
              "    }\n",
              "\n",
              "    .colab-df-convert:hover {\n",
              "      background-color: #E2EBFA;\n",
              "      box-shadow: 0px 1px 2px rgba(60, 64, 67, 0.3), 0px 1px 3px 1px rgba(60, 64, 67, 0.15);\n",
              "      fill: #174EA6;\n",
              "    }\n",
              "\n",
              "    [theme=dark] .colab-df-convert {\n",
              "      background-color: #3B4455;\n",
              "      fill: #D2E3FC;\n",
              "    }\n",
              "\n",
              "    [theme=dark] .colab-df-convert:hover {\n",
              "      background-color: #434B5C;\n",
              "      box-shadow: 0px 1px 3px 1px rgba(0, 0, 0, 0.15);\n",
              "      filter: drop-shadow(0px 1px 2px rgba(0, 0, 0, 0.3));\n",
              "      fill: #FFFFFF;\n",
              "    }\n",
              "  </style>\n",
              "\n",
              "      <script>\n",
              "        const buttonEl =\n",
              "          document.querySelector('#df-1caff293-4f80-46b6-ab7a-8e76985a7bcb button.colab-df-convert');\n",
              "        buttonEl.style.display =\n",
              "          google.colab.kernel.accessAllowed ? 'block' : 'none';\n",
              "\n",
              "        async function convertToInteractive(key) {\n",
              "          const element = document.querySelector('#df-1caff293-4f80-46b6-ab7a-8e76985a7bcb');\n",
              "          const dataTable =\n",
              "            await google.colab.kernel.invokeFunction('convertToInteractive',\n",
              "                                                     [key], {});\n",
              "          if (!dataTable) return;\n",
              "\n",
              "          const docLinkHtml = 'Like what you see? Visit the ' +\n",
              "            '<a target=\"_blank\" href=https://colab.research.google.com/notebooks/data_table.ipynb>data table notebook</a>'\n",
              "            + ' to learn more about interactive tables.';\n",
              "          element.innerHTML = '';\n",
              "          dataTable['output_type'] = 'display_data';\n",
              "          await google.colab.output.renderOutput(dataTable, element);\n",
              "          const docLink = document.createElement('div');\n",
              "          docLink.innerHTML = docLinkHtml;\n",
              "          element.appendChild(docLink);\n",
              "        }\n",
              "      </script>\n",
              "    </div>\n",
              "  </div>\n",
              "  "
            ]
          },
          "metadata": {},
          "execution_count": 7
        }
      ]
    },
    {
      "cell_type": "code",
      "source": [
        "y.head()"
      ],
      "metadata": {
        "colab": {
          "base_uri": "https://localhost:8080/"
        },
        "id": "NsUeNukla8U2",
        "outputId": "6fac3c59-ceb2-4e5c-b62b-4a80b1e09558"
      },
      "execution_count": 8,
      "outputs": [
        {
          "output_type": "execute_result",
          "data": {
            "text/plain": [
              "0    0\n",
              "1    0\n",
              "2    0\n",
              "3    0\n",
              "4    0\n",
              "Name: is_fraud, dtype: int64"
            ]
          },
          "metadata": {},
          "execution_count": 8
        }
      ]
    },
    {
      "cell_type": "markdown",
      "source": [
        "# 1.) Use scikit learn preprocessing to split the data into 70/30 in out of sample"
      ],
      "metadata": {
        "id": "8VsnpGe9-B3p"
      }
    },
    {
      "cell_type": "code",
      "source": [
        "# Setting up training and testing \n",
        "from sklearn.model_selection import train_test_split\n",
        "X_train, X_test, y_train, y_test = train_test_split(\n",
        "    X, y, test_size = 0.3, random_state=0)"
      ],
      "metadata": {
        "id": "FZvnpERK981d"
      },
      "execution_count": 9,
      "outputs": []
    },
    {
      "cell_type": "markdown",
      "source": [
        "# 2.) Make three sets of training data (Oversample, Undersample and SMOTE)"
      ],
      "metadata": {
        "id": "lbkpNPyN-Gnk"
      }
    },
    {
      "cell_type": "code",
      "source": [
        "# Oversample Training Data\n",
        "print(\"Before Oversample, counts of label '1':\", sum(y_train == 1))\n",
        "print(\"Before Oversample, counts of label '0':\", sum(y_train == 0))\n",
        "print('\\n')\n",
        "\n",
        "from imblearn.over_sampling import RandomOverSampler\n",
        "\n",
        "ros = RandomOverSampler(random_state = 0)\n",
        "X_over, y_over = ros.fit_resample(X_train, y_train)\n",
        "\n",
        "print('After Oversample, the shape of train_X:', (X_over.shape))\n",
        "print('After Oversample, the shape of train_y:', (y_over.shape))\n",
        "print('\\n')\n",
        "\n",
        "print(\"After Oversample, counts of label '1': \", (sum(y_over == 1)))\n",
        "print(\"After Oversample, counts of label '0': \", (sum(y_over == 0)))"
      ],
      "metadata": {
        "id": "gG88uxbiV4lZ",
        "colab": {
          "base_uri": "https://localhost:8080/"
        },
        "outputId": "eaadb1de-f37d-4db7-ef54-3cb84789d1c2"
      },
      "execution_count": 10,
      "outputs": [
        {
          "output_type": "stream",
          "name": "stdout",
          "text": [
            "Before Oversample, counts of label '1': 1485\n",
            "Before Oversample, counts of label '0': 387518\n",
            "\n",
            "\n",
            "After Oversample, the shape of train_X: (775036, 17)\n",
            "After Oversample, the shape of train_y: (775036,)\n",
            "\n",
            "\n",
            "After Oversample, counts of label '1':  387518\n",
            "After Oversample, counts of label '0':  387518\n"
          ]
        }
      ]
    },
    {
      "cell_type": "code",
      "source": [
        "# Undersample Training Data\n",
        "print(\"Before Undersample, counts of label '1':\", sum(y_train == 1))\n",
        "print(\"Before Undersample, counts of label '0':\", sum(y_train == 0))\n",
        "print('\\n')\n",
        "\n",
        "from imblearn.under_sampling import RandomUnderSampler\n",
        "\n",
        "rus = RandomUnderSampler(random_state = 0)\n",
        "X_under, y_under = rus.fit_resample(X_train, y_train)\n",
        "\n",
        "print('After Undersample, the shape of train_X:', (X_under.shape))\n",
        "print('After Undersample, the shape of train_y:', (y_under.shape))\n",
        "print('\\n')\n",
        "\n",
        "print(\"After Undersample, counts of label '1': \", (sum(y_under == 1)))\n",
        "print(\"After Undersample, counts of label '0': \", (sum(y_under == 0)))"
      ],
      "metadata": {
        "id": "ifsNzHvOlpdf",
        "colab": {
          "base_uri": "https://localhost:8080/"
        },
        "outputId": "6f3808c3-39d1-4cde-aad1-a61b96e08f81"
      },
      "execution_count": 11,
      "outputs": [
        {
          "output_type": "stream",
          "name": "stdout",
          "text": [
            "Before Undersample, counts of label '1': 1485\n",
            "Before Undersample, counts of label '0': 387518\n",
            "\n",
            "\n",
            "After Undersample, the shape of train_X: (2970, 17)\n",
            "After Undersample, the shape of train_y: (2970,)\n",
            "\n",
            "\n",
            "After Undersample, counts of label '1':  1485\n",
            "After Undersample, counts of label '0':  1485\n"
          ]
        }
      ]
    },
    {
      "cell_type": "code",
      "source": [
        "# SMOTE Training Data\n",
        "print(\"Before SMOTE, counts of label '1':\", sum(y_train == 1))\n",
        "print(\"Before SMOTE, counts of label '0':\", sum(y_train == 0))\n",
        "print('\\n')\n",
        "  \n",
        "from imblearn.over_sampling import SMOTE\n",
        "\n",
        "sm = SMOTE(random_state = 0)\n",
        "X_SMOTE, y_SMOTE = sm.fit_resample(X_train, y_train)\n",
        "  \n",
        "print('After SMOTE, the shape of train_X:', (X_SMOTE.shape))\n",
        "print('After SMOTE, the shape of train_y:', (y_SMOTE.shape))\n",
        "print('\\n')\n",
        "\n",
        "print(\"After SMOTE, counts of label '1': \", (sum(y_SMOTE == 1)))\n",
        "print(\"After SMOTE, counts of label '0': \", (sum(y_SMOTE == 0)))"
      ],
      "metadata": {
        "id": "bkfqhq4J99A6",
        "colab": {
          "base_uri": "https://localhost:8080/"
        },
        "outputId": "2adfb068-a39b-47a5-e326-1776bb212fbc"
      },
      "execution_count": 12,
      "outputs": [
        {
          "output_type": "stream",
          "name": "stdout",
          "text": [
            "Before SMOTE, counts of label '1': 1485\n",
            "Before SMOTE, counts of label '0': 387518\n",
            "\n",
            "\n",
            "After SMOTE, the shape of train_X: (775036, 17)\n",
            "After SMOTE, the shape of train_y: (775036,)\n",
            "\n",
            "\n",
            "After SMOTE, counts of label '1':  387518\n",
            "After SMOTE, counts of label '0':  387518\n"
          ]
        }
      ]
    },
    {
      "cell_type": "markdown",
      "source": [
        "# 3.) Train three logistic regression models "
      ],
      "metadata": {
        "id": "bIJx2jvD-KEI"
      }
    },
    {
      "cell_type": "code",
      "source": [
        "from sklearn.linear_model import LogisticRegression"
      ],
      "metadata": {
        "id": "KOnZZZFLUD4O"
      },
      "execution_count": 13,
      "outputs": []
    },
    {
      "cell_type": "code",
      "source": [
        "# Train Oversample Logistic Regression Model\n",
        "log_reg_over = LogisticRegression().fit(X_over, y_over)"
      ],
      "metadata": {
        "id": "QhVMq92zvz4s"
      },
      "execution_count": 14,
      "outputs": []
    },
    {
      "cell_type": "code",
      "source": [
        "# Train Undersample Logistic Regression Model\n",
        "log_reg_under = LogisticRegression().fit(X_under, y_under)"
      ],
      "metadata": {
        "id": "AwXa-bvX99Id"
      },
      "execution_count": 15,
      "outputs": []
    },
    {
      "cell_type": "code",
      "source": [
        "# Train SMOTE Logistic Regression Model\n",
        "log_reg_SMOTE = LogisticRegression().fit(X_SMOTE, y_SMOTE)"
      ],
      "metadata": {
        "id": "vj5uNeAr99LE"
      },
      "execution_count": 16,
      "outputs": []
    },
    {
      "cell_type": "markdown",
      "source": [
        "# 4.) Test the three models"
      ],
      "metadata": {
        "id": "PeurmqI4-OoC"
      }
    },
    {
      "cell_type": "code",
      "source": [
        "# Test Oversample Logistic Regression Model\n",
        "y_pred_over = log_reg_over.predict(X_test) "
      ],
      "metadata": {
        "id": "8tpSsOC0xsKs"
      },
      "execution_count": 17,
      "outputs": []
    },
    {
      "cell_type": "code",
      "source": [
        "# Test Undersample Logistic Regression Model\n",
        "y_pred_under = log_reg_under.predict(X_test) "
      ],
      "metadata": {
        "id": "DjgQ8BQM99WR"
      },
      "execution_count": 18,
      "outputs": []
    },
    {
      "cell_type": "code",
      "source": [
        "# Test SMOTE Logistic Regression Model\n",
        "y_pred_SMOTE = log_reg_SMOTE.predict(X_test) "
      ],
      "metadata": {
        "id": "udwK0byx-RLA"
      },
      "execution_count": 19,
      "outputs": []
    },
    {
      "cell_type": "markdown",
      "source": [
        "# 5.) Which performed best in Out of Sample metrics?"
      ],
      "metadata": {
        "id": "6isBwtmL-R4p"
      }
    },
    {
      "cell_type": "code",
      "source": [
        "from sklearn import metrics"
      ],
      "metadata": {
        "id": "9fwAhujT-RN4"
      },
      "execution_count": 20,
      "outputs": []
    },
    {
      "cell_type": "code",
      "source": [
        "# Oversample\n",
        "print('Oversample Metrics')\n",
        "confusion_matrix = metrics.confusion_matrix(y_test, y_pred_over)\n",
        "cm_display = metrics.ConfusionMatrixDisplay(confusion_matrix = confusion_matrix, \n",
        "                    display_labels = [\"Not Fraud\", \"Fraud\"])\n",
        "cm_display.plot()\n",
        "plt.show()\n",
        "\n",
        "auc = metrics.classification_report(y_test, y_pred_over)\n",
        "print(auc)\n"
      ],
      "metadata": {
        "id": "POIuy3rH-RQv",
        "colab": {
          "base_uri": "https://localhost:8080/",
          "height": 449
        },
        "outputId": "ef0e38a6-157c-499b-923e-983db37732b3"
      },
      "execution_count": 21,
      "outputs": [
        {
          "output_type": "stream",
          "name": "stdout",
          "text": [
            "Oversample Metrics\n"
          ]
        },
        {
          "output_type": "display_data",
          "data": {
            "text/plain": [
              "<Figure size 432x288 with 2 Axes>"
            ],
            "image/png": "[encoded data removed]"
          },
          "metadata": {
            "needs_background": "light"
          }
        },
        {
          "output_type": "stream",
          "name": "stdout",
          "text": [
            "              precision    recall  f1-score   support\n",
            "\n",
            "           0       1.00      0.95      0.97    166056\n",
            "           1       0.05      0.73      0.10       660\n",
            "\n",
            "    accuracy                           0.95    166716\n",
            "   macro avg       0.53      0.84      0.54    166716\n",
            "weighted avg       1.00      0.95      0.97    166716\n",
            "\n"
          ]
        }
      ]
    },
    {
      "cell_type": "code",
      "source": [
        "# Undersample\n",
        "print('Undersample Metrics')\n",
        "confusion_matrix = metrics.confusion_matrix(y_test, y_pred_under)\n",
        "cm_display = metrics.ConfusionMatrixDisplay(confusion_matrix = confusion_matrix, \n",
        "                    display_labels = [\"Not Fraud\", \"Fraud\"])\n",
        "cm_display.plot()\n",
        "plt.show()\n",
        "\n",
        "auc = metrics.classification_report(y_test, y_pred_under)\n",
        "print(auc)\n"
      ],
      "metadata": {
        "id": "g14fgEkT-RTV",
        "colab": {
          "base_uri": "https://localhost:8080/",
          "height": 449
        },
        "outputId": "ba886e06-480b-41e6-b220-d13e3a56a6b3"
      },
      "execution_count": 22,
      "outputs": [
        {
          "output_type": "stream",
          "name": "stdout",
          "text": [
            "Undersample Metrics\n"
          ]
        },
        {
          "output_type": "display_data",
          "data": {
            "text/plain": [
              "<Figure size 432x288 with 2 Axes>"
            ],
            "image/png": "[encoded data removed]"
          },
          "metadata": {
            "needs_background": "light"
          }
        },
        {
          "output_type": "stream",
          "name": "stdout",
          "text": [
            "              precision    recall  f1-score   support\n",
            "\n",
            "           0       1.00      0.17      0.29    166056\n",
            "           1       0.00      0.96      0.01       660\n",
            "\n",
            "    accuracy                           0.17    166716\n",
            "   macro avg       0.50      0.56      0.15    166716\n",
            "weighted avg       1.00      0.17      0.29    166716\n",
            "\n"
          ]
        }
      ]
    },
    {
      "cell_type": "code",
      "source": [
        "# SMOTE\n",
        "print('SMOTE Metrics')\n",
        "confusion_matrix = metrics.confusion_matrix(y_test, y_pred_SMOTE)\n",
        "cm_display = metrics.ConfusionMatrixDisplay(confusion_matrix = confusion_matrix, \n",
        "                    display_labels = [\"Not Fraud\", \"Fraud\"])\n",
        "cm_display.plot()\n",
        "plt.show()\n",
        "\n",
        "auc = metrics.classification_report(y_test, y_pred_SMOTE)\n",
        "print(auc)\n"
      ],
      "metadata": {
        "id": "5gAU63Wc-RWN",
        "colab": {
          "base_uri": "https://localhost:8080/",
          "height": 449
        },
        "outputId": "8e98f376-8673-43d6-84e5-e07852b7ecab"
      },
      "execution_count": 23,
      "outputs": [
        {
          "output_type": "stream",
          "name": "stdout",
          "text": [
            "SMOTE Metrics\n"
          ]
        },
        {
          "output_type": "display_data",
          "data": {
            "text/plain": [
              "<Figure size 432x288 with 2 Axes>"
            ],
            "image/png": "[encoded data removed]"
          },
          "metadata": {
            "needs_background": "light"
          }
        },
        {
          "output_type": "stream",
          "name": "stdout",
          "text": [
            "              precision    recall  f1-score   support\n",
            "\n",
            "           0       1.00      0.17      0.28    166056\n",
            "           1       0.00      0.96      0.01       660\n",
            "\n",
            "    accuracy                           0.17    166716\n",
            "   macro avg       0.50      0.56      0.15    166716\n",
            "weighted avg       1.00      0.17      0.28    166716\n",
            "\n"
          ]
        }
      ]
    },
    {
      "cell_type": "code",
      "source": [
        "## Plotting ROC Curves to Compare Models \n",
        "\n",
        "# Oversample\n",
        "fpr_over, tpr_over, thresholds_over = metrics.roc_curve(y_test, y_pred_over)\n",
        "auc_over = metrics.auc(fpr_over, tpr_over)\n",
        "\n",
        "\n",
        "# Undersample\n",
        "fpr_under, tpr_under, thresholds_under = metrics.roc_curve(y_test, y_pred_under)\n",
        "auc_under = metrics.auc(fpr_under, tpr_under)\n",
        "\n",
        "# SMOTE\n",
        "fpr_SMOTE, tpr_SMOTE, thresholds_SMOTE = metrics.roc_curve(y_test, y_pred_SMOTE)\n",
        "auc_SMOTE = metrics.auc(fpr_SMOTE, tpr_SMOTE)\n",
        "\n",
        "\n",
        "plt.figure(figsize = (15, 8))\n",
        "\n",
        "plt.plot(fpr_over, tpr_over, color = 'blue', \n",
        "         label = 'Oversample, AUC = '+str(round(auc_over, 4)))\n",
        "plt.plot(fpr_under, tpr_under, color = 'red', \n",
        "         label = 'Undersample, AUC = '+str(round(auc_under, 4)))\n",
        "plt.plot(fpr_SMOTE, tpr_SMOTE, color = 'green', \n",
        "         label = 'SMOTE, AUC = '+str(round(auc_SMOTE, 4)))\n",
        "plt.legend()\n",
        "plt.xlabel('False Positive Rate')\n",
        "plt.ylabel('True Positive Rate')\n",
        "plt.title('ROC Curve for Models')\n",
        "\n",
        "\n",
        "plt.show()"
      ],
      "metadata": {
        "colab": {
          "base_uri": "https://localhost:8080/",
          "height": 513
        },
        "id": "wKIrtL5Eglrc",
        "outputId": "bc96de9b-faab-472c-c268-f0db169737a8"
      },
      "execution_count": 24,
      "outputs": [
        {
          "output_type": "display_data",
          "data": {
            "text/plain": [
              "<Figure size 1080x576 with 1 Axes>"
            ],
            "image/png": "[encoded data removed]"
          },
          "metadata": {
            "needs_background": "light"
          }
        }
      ]
    },
    {
      "cell_type": "markdown",
      "source": [
        "Based on the confusion matricies, accuracy scores, and ROC curves, we can see that the Oversampled model performed best."
      ],
      "metadata": {
        "id": "3zlA3nrWje8Y"
      }
    },
    {
      "cell_type": "markdown",
      "source": [
        "# 6.) Pick two features and plot the two classes before and after SMOTE."
      ],
      "metadata": {
        "id": "aQa3sanl-XUk"
      }
    },
    {
      "cell_type": "code",
      "source": [
        "### Picking 2 features \n",
        "# Before SMOTE\n",
        "data = X_train\n",
        "data['is_fraud'] = y_train\n",
        "\n",
        "amt_fraud = data['amt'].loc[data['is_fraud'] == 1]\n",
        "amt_not = data['amt'].loc[data['is_fraud'] == 0]\n",
        "citypop_fraud = data['city_pop'].loc[data['is_fraud'] == 1]\n",
        "citypop_not = data['city_pop'].loc[data['is_fraud'] == 0]\n",
        "\n",
        "# After SMOTE\n",
        "smote_data = X_SMOTE\n",
        "smote_data['is_fraud'] = y_SMOTE\n",
        "\n",
        "smote_amt_fraud = smote_data['amt'].loc[smote_data['is_fraud'] == 1]\n",
        "smote_amt_not = smote_data['amt'].loc[smote_data['is_fraud'] == 0]\n",
        "smote_citypop_fraud = smote_data['city_pop'].loc[smote_data['is_fraud'] == 1]\n",
        "smote_citypop_not = smote_data['city_pop'].loc[smote_data['is_fraud'] == 0]\n",
        "\n",
        "fig, ax = plt.subplots(1, 2, figsize = (20, 8))\n",
        "\n",
        "#Before SMOTE\n",
        "ax[0].scatter(amt_fraud, citypop_fraud, color = 'blue', \n",
        "              marker = 'o', alpha = 0.2)\n",
        "ax[0].scatter(amt_not, citypop_not, color = 'red', \n",
        "              marker = 'o', alpha = 0.1)\n",
        "\n",
        "ax[0].set_xlabel('amt')\n",
        "ax[0].set_ylabel('city pop')\n",
        "ax[0].set_title('After SMOTE')\n",
        "ax[0].legend(['Fraud', 'Not Fraud'])\n",
        "\n",
        "# After SMOTE\n",
        "ax[1].scatter(smote_amt_fraud, smote_citypop_fraud, color = 'blue', \n",
        "              marker = 'o', alpha = 0.2)\n",
        "ax[1].scatter(smote_amt_not, smote_citypop_not, color = 'red', \n",
        "              marker = 'o', alpha = 0.1)\n",
        "\n",
        "ax[1].set_xlabel('amt')\n",
        "ax[1].set_ylabel('city pop')\n",
        "ax[1].set_title('Before SMOTE')\n",
        "ax[1].legend(['Fraud', 'Not Fraud'])\n",
        "plt.show()"
      ],
      "metadata": {
        "id": "vVaHpqf9wHj7",
        "colab": {
          "base_uri": "https://localhost:8080/",
          "height": 513
        },
        "outputId": "4bcc5ad2-2ba9-493a-9aab-950e86ea7054"
      },
      "execution_count": 25,
      "outputs": [
        {
          "output_type": "display_data",
          "data": {
            "text/plain": [
              "<Figure size 1440x576 with 2 Axes>"
            ],
            "image/png": "[encoded data removed]"
          },
          "metadata": {
            "needs_background": "light"
          }
        }
      ]
    },
    {
      "cell_type": "code",
      "source": [],
      "metadata": {
        "id": "UD3bNo_SkS5L"
      },
      "execution_count": 25,
      "outputs": []
    }
  ]
}